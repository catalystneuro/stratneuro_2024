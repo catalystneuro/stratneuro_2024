{
 "cells": [
  {
   "cell_type": "markdown",
   "id": "866d46b5-a923-42fd-9846-710f18e1e08d",
   "metadata": {},
   "source": [
    "# Convert custom data using PyNWB\n",
    "\n",
    "Previously you learned how to convert electrophysiology data from a common data type (Neuropixels) to the NWB format, using the [GUIDE](https://nwb-guide.readthedocs.io/en/latest).\n",
    "\n",
    "In this tutorial we'll learn how to use [PyNWB](https://pynwb.readthedocs.io/en/stable/index.html) to add custom trials data to an existing NWB file. \n",
    "\n",
    "Let's start by installing the necessary packages."
   ]
  },
  {
   "cell_type": "code",
   "execution_count": null,
   "id": "164b0ac8-88cf-4904-a07f-9378a3a71a3c",
   "metadata": {
    "scrolled": true
   },
   "outputs": [],
   "source": [
    "%%bash\n",
    "\n",
    "pip install -U pynwb dandi pyyaml"
   ]
  },
  {
   "cell_type": "markdown",
   "id": "4cf866f1-db29-473b-862c-6943de96de5d",
   "metadata": {},
   "source": [
    "# Download NWB file from DANDI archive (staging)\n",
    "\n",
    "To download the dandiset containing the NWB files, we can use the [dandi cli](https://www.dandiarchive.org/handbook/12_download/#using-the-python-cli-client). The command below will create a folder in your current working directory containing all NWB files from the chosen dandiset. \n",
    "\n",
    "Remember to **change the dandiset id number**, choose the dandiset you created for the GUIDE tutorial."
   ]
  },
  {
   "cell_type": "code",
   "execution_count": null,
   "id": "342336a6-6c9e-43ba-bf7e-bd7b659442c1",
   "metadata": {},
   "outputs": [],
   "source": [
    "# Set your dandiset number here\n",
    "dandiset_id = \"213840\"\n",
    "\n",
    "# Run the bash command\n",
    "bash_command = f'dandi download https://gui-staging.dandiarchive.org/dandiset/{dandiset_id}/draft'\n",
    "\n",
    "!{bash_command}"
   ]
  },
  {
   "cell_type": "markdown",
   "id": "8843509e-fbee-49c7-a746-4263d2fba817",
   "metadata": {},
   "source": [
    "## Open Downloaded file using PyNWB\n",
    "\n",
    "Let's open the downloaded file with PyNWB and verify its contents. Remember to **change the path** to the file you just downloaded."
   ]
  },
  {
   "cell_type": "code",
   "execution_count": null,
   "id": "7b5304e4-d373-496f-8962-9516a5458b39",
   "metadata": {},
   "outputs": [],
   "source": [
    "import pynwb\n",
    "\n",
    "\n",
    "# Change this to the path to the NWB file you just downloaded\n",
    "file_path = \"213840/sub-id0123/sub-id0123_ses-id987_ecephys.nwb\"\n",
    "\n",
    "# Open the file with PyNWB and verify its contents\n",
    "read_io = pynwb.NWBHDF5IO(file_path, mode=\"r\")\n",
    "nwbfile = read_io.read()\n",
    "nwbfile"
   ]
  },
  {
   "cell_type": "markdown",
   "id": "b7fb1083-f9d1-438c-b61a-2ec56d894e38",
   "metadata": {},
   "source": [
    "When opening a file with PyNWB without a context manager (as we've just done in the code above) it is always important to **close the file**."
   ]
  },
  {
   "cell_type": "code",
   "execution_count": null,
   "id": "2d75547b-5cb7-49eb-908c-b7e3ac9e5607",
   "metadata": {},
   "outputs": [],
   "source": [
    "# Remember to close the file if you are exploring it outside of the context manager mode\n",
    "read_io.close()"
   ]
  },
  {
   "cell_type": "markdown",
   "id": "b9ebb828-5f95-4552-b272-135fc3f4406b",
   "metadata": {},
   "source": [
    "# Modify the original NWB file\n",
    "\n",
    "The NWB file you created for the GUIDE tutorial contains raw electrophysiology traces and processed spiking data. Many times it can be useful to modify the original NWB file, either to include new processed data or to exclude raw data.\n",
    "\n",
    "Next you will add trials information and remove the raw traces from this file. Read more about adding and removing data from NWB files [here](https://pynwb.readthedocs.io/en/stable/tutorials/general/add_remove_containers.html). In this session we will:\n",
    "- Open the NWB file in read mode.\n",
    "- Add trials data. Read more about time intervals in NWB [here](https://pynwb.readthedocs.io/en/stable/tutorials/general/plot_file.html#time-intervals).\n",
    "- Remove the raw electrophysiology traces.\n",
    "- Write the modified NWB object as a new NWB file."
   ]
  },
  {
   "cell_type": "code",
   "execution_count": null,
   "id": "a703032f-fe8e-4947-8ceb-a14a80cd9365",
   "metadata": {},
   "outputs": [],
   "source": [
    "from utils import get_file_size_in_mb\n",
    "\n",
    "\n",
    "# Open the file in `r` mode, generate new unique id\n",
    "with pynwb.NWBHDF5IO(file_path, mode=\"r\") as read_io:\n",
    "    nwbfile = read_io.read()\n",
    "    nwbfile.generate_new_id()\n",
    "\n",
    "    # Create trials data and add them to the NWBFile object\n",
    "    nwbfile.add_trial_column(\n",
    "        name=\"correct\",\n",
    "        description=\"whether the trial was correct\",\n",
    "    )\n",
    "    nwbfile.add_trial(start_time=1.0, stop_time=5.0, correct=True)\n",
    "    nwbfile.add_trial(start_time=6.0, stop_time=10.0, correct=False)\n",
    "\n",
    "    # Remove the raw traces from the NWBFile object\n",
    "    nwbfile.acquisition.pop(\"ElectricalSeriesAP\")\n",
    "\n",
    "    # Use the export method to write the modified NWBFile object to a new file path. \n",
    "    # The original file is not modified\n",
    "    file_path_modified = file_path.split(\".nwb\")[0] + \"_modified.nwb\"\n",
    "    with pynwb.NWBHDF5IO(file_path_modified, mode=\"w\") as export_io:\n",
    "        export_io.export(src_io=read_io, nwbfile=nwbfile)\n",
    "\n",
    "    print(f\"Original file size: {get_file_size_in_mb(file_path)} MB\")\n",
    "    print(f\"Modified file size: {get_file_size_in_mb(file_path_modified)} MB\")"
   ]
  },
  {
   "cell_type": "code",
   "execution_count": null,
   "id": "654f9728-9347-4cad-9ec7-f8773c6192e2",
   "metadata": {},
   "outputs": [],
   "source": [
    "# Read the modified NWB file and confirm the modifications\n",
    "read_io = pynwb.NWBHDF5IO(file_path_modified, mode=\"r\")\n",
    "nwbfile = read_io.read()\n",
    "nwbfile"
   ]
  },
  {
   "cell_type": "code",
   "execution_count": null,
   "id": "7d1b0df0-3ec4-4b89-9aab-94051b8ee043",
   "metadata": {},
   "outputs": [],
   "source": [
    "# Remember to close the file if you are exploring it outside of the context manager mode\n",
    "read_io.close()"
   ]
  },
  {
   "cell_type": "markdown",
   "id": "f2031645-cd7a-4290-8703-598ba1661209",
   "metadata": {},
   "source": [
    "# Upload the modified NWB file to DANDI archive (staging)\n",
    "\n",
    "Now we can upload the modified NWB file to DANDI archive. Let's upload it to the same dandiset you've been using, for simplicity.\n",
    "\n",
    "Don't forget to **set the right value for your DANDI_API_KEY** in the code below."
   ]
  },
  {
   "cell_type": "code",
   "execution_count": null,
   "id": "65ff4f7f-5cc6-49df-92e1-8a40c47bd2b5",
   "metadata": {},
   "outputs": [],
   "source": [
    "import os\n",
    "\n",
    "\n",
    "# Save your API key for Dandi staging as an environment variable\n",
    "os.environ[\"DANDI_API_KEY\"] = \"xxxxxxxxxxxxxxxxxxxxxxxxxxxxxxxxxxx\"\n",
    "\n",
    "# Run the bash command\n",
    "bash_command = f'dandi upload -i dandi-staging -e skip --validation ignore {dandiset_id}'\n",
    "\n",
    "# bash_command = f'dandi validate {dandiset_id}'\n",
    "# dandi organize -d {dandiset_id} -f dry\n",
    "\n",
    "!{bash_command}"
   ]
  },
  {
   "cell_type": "markdown",
   "id": "ca894e6a-42cb-4f3e-a00a-138a266c2054",
   "metadata": {},
   "source": [
    "# Explore the modified data file in DANDI archive and Neurosift\n",
    "\n",
    "Once the modified data has been uploaded to DANDI archive, it becomes immediately available to be read and visualized online!\n",
    "\n",
    "For that we will use [Neurosift](https://neurosift.app), a web app that allows you to explore and visualize all the data stored in the DANDI archive. Follow these steps:\n",
    "- Run the cell below to get the url for your dandiset.\n",
    "- Navigate to `Files` under `Dandiset Actions`\n",
    "- Over the modified file, click on `Open with` then `Neurosift`\n",
    "\n",
    "Alternatively, you can open [Neurosift](https://neurosift.app) and navigate through all available dandisets directly from there!"
   ]
  },
  {
   "cell_type": "code",
   "execution_count": null,
   "id": "fa1a9803-504f-46de-a29c-b966e5029fe3",
   "metadata": {},
   "outputs": [],
   "source": [
    "import yaml\n",
    "\n",
    "# Get the dandiset url from the YAML file\n",
    "yaml_file_path = f\"{dandiset_id}/dandiset.yaml\"\n",
    "with open(yaml_file_path, 'r') as file:\n",
    "    yaml_dict = yaml.safe_load(file)\n",
    "    print(yaml_dict[\"url\"])"
   ]
  },
  {
   "cell_type": "code",
   "execution_count": null,
   "id": "74e8782e-0cc2-46e5-860b-064b03458d5d",
   "metadata": {},
   "outputs": [],
   "source": []
  }
 ],
 "metadata": {
  "kernelspec": {
   "display_name": "env_dendro",
   "language": "python",
   "name": "env_dendro"
  },
  "language_info": {
   "codemirror_mode": {
    "name": "ipython",
    "version": 3
   },
   "file_extension": ".py",
   "mimetype": "text/x-python",
   "name": "python",
   "nbconvert_exporter": "python",
   "pygments_lexer": "ipython3",
   "version": "3.10.4"
  }
 },
 "nbformat": 4,
 "nbformat_minor": 5
}
