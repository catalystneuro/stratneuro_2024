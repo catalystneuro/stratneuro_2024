{
 "cells": [
  {
   "cell_type": "markdown",
   "id": "866d46b5-a923-42fd-9846-710f18e1e08d",
   "metadata": {},
   "source": [
    "# Convert custom data using PyNWB\n",
    "\n",
    "Previously you learned how to convert electrophysiology data from a common data type (Neuropixels) to the NWB format, using the [GUIDE](https://nwb-guide.readthedocs.io/en/latest).\n",
    "\n",
    "In this tutorial we'll learn how to use [PyNWB](https://pynwb.readthedocs.io/en/stable/index.html) to add custom trials data to an existing NWB file. \n",
    "\n",
    "Let's start by installing the necessary packages."
   ]
  },
  {
   "cell_type": "code",
   "execution_count": null,
   "id": "164b0ac8-88cf-4904-a07f-9378a3a71a3c",
   "metadata": {
    "scrolled": true
   },
   "outputs": [],
   "source": [
    "%%bash\n",
    "\n",
    "pip install -U pynwb==2.7.0 dandi==0.62.1 nwbinspector==0.4.35 pyyaml pandas"
   ]
  },
  {
   "cell_type": "markdown",
   "id": "4cf866f1-db29-473b-862c-6943de96de5d",
   "metadata": {},
   "source": [
    "# Download NWB file from DANDI archive (staging)\n",
    "\n",
    "To download the dandiset containing the NWB files, we can use the [dandi cli](https://www.dandiarchive.org/handbook/12_download/#using-the-python-cli-client). The command below will create a folder in your current working directory containing all NWB files from the chosen dandiset. \n",
    "\n",
    "Remember to **change the dandiset id number**, choose the dandiset you created for the GUIDE tutorial."
   ]
  },
  {
   "cell_type": "code",
   "execution_count": null,
   "id": "342336a6-6c9e-43ba-bf7e-bd7b659442c1",
   "metadata": {},
   "outputs": [],
   "source": [
    "# Set your dandiset number here\n",
    "dandiset_id = \"213840\"\n",
    "\n",
    "# Run the bash command\n",
    "bash_command = f'dandi download https://gui-staging.dandiarchive.org/dandiset/{dandiset_id}/draft'\n",
    "\n",
    "!{bash_command}"
   ]
  },
  {
   "cell_type": "markdown",
   "id": "8843509e-fbee-49c7-a746-4263d2fba817",
   "metadata": {},
   "source": [
    "## Open Downloaded file and explore it using PyNWB\n",
    "\n",
    "Let's open the downloaded file with PyNWB and verify its contents. Remember to **change the path** to the file you just downloaded."
   ]
  },
  {
   "cell_type": "code",
   "execution_count": null,
   "id": "7b5304e4-d373-496f-8962-9516a5458b39",
   "metadata": {},
   "outputs": [],
   "source": [
    "import pynwb\n",
    "\n",
    "\n",
    "# Change this to the path to the NWB file you just downloaded\n",
    "file_path = \"213840/sub-id0123/sub-id0123_ses-id987_ecephys.nwb\"\n",
    "\n",
    "# Open the file with PyNWB and verify its contents\n",
    "read_io = pynwb.NWBHDF5IO(file_path, mode=\"r\")\n",
    "nwbfile = read_io.read()\n",
    "nwbfile"
   ]
  },
  {
   "cell_type": "code",
   "execution_count": null,
   "id": "d66f16dc-8405-458e-9099-083e7b718911",
   "metadata": {},
   "outputs": [],
   "source": [
    "# You can access all data and information inside the nwbfile object\n",
    "print(\"Electrical series recording information:\")\n",
    "print(nwbfile.acquisition['ElectricalSeriesAP'])\n",
    "\n",
    "print(\"Subject information:\")\n",
    "print(nwbfile.subject)"
   ]
  },
  {
   "cell_type": "code",
   "execution_count": null,
   "id": "0c90becb-cd76-4e03-ac8c-4287707485e7",
   "metadata": {},
   "outputs": [],
   "source": [
    "# Tabular information such as electrodes or sorted units can be explored as Pandas dataframes\n",
    "nwbfile.electrodes.to_dataframe()"
   ]
  },
  {
   "cell_type": "code",
   "execution_count": null,
   "id": "44d06d2a-c0a5-4e1b-abfa-5643a00495e6",
   "metadata": {
    "scrolled": true
   },
   "outputs": [],
   "source": [
    "# Let's check the Units table\n",
    "nwbfile.units.to_dataframe()"
   ]
  },
  {
   "cell_type": "markdown",
   "id": "b7fb1083-f9d1-438c-b61a-2ec56d894e38",
   "metadata": {},
   "source": [
    "When opening a file with PyNWB without a context manager (as we've just done in the code above) it is always important to **close the file**."
   ]
  },
  {
   "cell_type": "code",
   "execution_count": null,
   "id": "2d75547b-5cb7-49eb-908c-b7e3ac9e5607",
   "metadata": {},
   "outputs": [],
   "source": [
    "# Remember to close the file if you are exploring it outside of the context manager mode\n",
    "read_io.close()"
   ]
  },
  {
   "cell_type": "markdown",
   "id": "b9ebb828-5f95-4552-b272-135fc3f4406b",
   "metadata": {},
   "source": [
    "# Add data to the original NWB file\n",
    "\n",
    "The NWB file you created for the GUIDE tutorial contains raw electrophysiology traces and processed spiking data. With PyNWB you can include more experimental data to the file.\n",
    "\n",
    "Next, you will add trials information to this file. Read more about adding and removing data from NWB files [here](https://pynwb.readthedocs.io/en/stable/tutorials/general/add_remove_containers.html). In this session we will:\n",
    "- Open the NWB file in append mode.\n",
    "- Add trials data. Read more about time intervals in NWB [here](https://pynwb.readthedocs.io/en/stable/tutorials/general/plot_file.html#time-intervals).\n",
    "- Write the modified NWB file.\n",
    "- Open the file and explore the new content in it\n",
    "- Close the file"
   ]
  },
  {
   "cell_type": "code",
   "execution_count": null,
   "id": "a703032f-fe8e-4947-8ceb-a14a80cd9365",
   "metadata": {},
   "outputs": [],
   "source": [
    "# Open the file in `r+` mode, that allows us to add new data to it\n",
    "with pynwb.NWBHDF5IO(file_path, mode=\"a\") as io:\n",
    "    nwbfile = io.read()\n",
    "\n",
    "    # Create trials data and add them to the NWBFile object\n",
    "    nwbfile.add_trial_column(\n",
    "        name=\"correct\",\n",
    "        description=\"whether the trial was correct\",\n",
    "    )\n",
    "    nwbfile.add_trial(start_time=0.0, stop_time=5.0, correct=True)\n",
    "    nwbfile.add_trial(start_time=5.0, stop_time=10.0, correct=False)\n",
    "    nwbfile.add_trial(start_time=10.0, stop_time=15.0, correct=True)\n",
    "\n",
    "    # write the modifications to disk\n",
    "    io.write(nwbfile)"
   ]
  },
  {
   "cell_type": "code",
   "execution_count": null,
   "id": "654f9728-9347-4cad-9ec7-f8773c6192e2",
   "metadata": {},
   "outputs": [],
   "source": [
    "import pynwb\n",
    "# Read the NWB file and confirm the modifications\n",
    "read_io = pynwb.NWBHDF5IO(file_path, mode=\"r\")\n",
    "nwbfile = read_io.read()\n",
    "nwbfile"
   ]
  },
  {
   "cell_type": "code",
   "execution_count": null,
   "id": "d031be5c-23aa-41b9-94df-f7d720ece2a7",
   "metadata": {},
   "outputs": [],
   "source": [
    "# Let's check the newly created Trials table\n",
    "nwbfile.trials.to_dataframe()"
   ]
  },
  {
   "cell_type": "code",
   "execution_count": null,
   "id": "7d1b0df0-3ec4-4b89-9aab-94051b8ee043",
   "metadata": {},
   "outputs": [],
   "source": [
    "# Remember to close the file if you are exploring it outside of the context manager mode\n",
    "read_io.close()"
   ]
  },
  {
   "cell_type": "markdown",
   "id": "1735713c-2d6b-434c-8188-dfb2dc31cfce",
   "metadata": {},
   "source": [
    "# Create a new NWB file based on the original NWB file\n",
    "Many times it can be useful to modify the original NWB file, e.g. to include new processed data or to exclude raw data.\n",
    "\n",
    "Next, you will create a new NWB file based on the original file, add new processed data and remove the raw traces from it. Read more about adding and removing data from NWB files [here](https://pynwb.readthedocs.io/en/stable/tutorials/general/add_remove_containers.html). In this session we will:\n",
    "- Open the NWB file in read mode.\n",
    "- Remove the raw electrophysiology traces.\n",
    "- Add mock processed behavioral data. Read more about behavioral data in NWB [here](https://pynwb.readthedocs.io/en/stable/tutorials/domain/plot_behavior.html).\n",
    "- Write the modified NWB object as a new NWB file.\n",
    "- Open the new file and explore the content in it\n",
    "- Close the file"
   ]
  },
  {
   "cell_type": "code",
   "execution_count": null,
   "id": "3f12dec8-4613-44db-b05f-c5d08122e3dd",
   "metadata": {},
   "outputs": [],
   "source": [
    "from utils import get_file_size_in_mb\n",
    "import numpy as np\n",
    "\n",
    "\n",
    "# Open the file in `r` mode, generate new unique id\n",
    "with pynwb.NWBHDF5IO(file_path, mode=\"r\") as read_io:\n",
    "    nwbfile = read_io.read()\n",
    "    nwbfile.generate_new_id()\n",
    "\n",
    "    # Remove the raw traces from the NWBFile object\n",
    "    nwbfile.acquisition.pop(\"ElectricalSeriesAP\")\n",
    "\n",
    "    # Create a Behavior Processing Module\n",
    "    behavior_module = nwbfile.create_processing_module(\n",
    "        name=\"behavior\",\n",
    "        description=\"Processed behavioral data\"\n",
    "    )\n",
    "    \n",
    "    # Add mock processed behavioral data\n",
    "    speed_data = np.random.random(15)\n",
    "    speed_time_series = pynwb.TimeSeries(\n",
    "        name=\"speed\",\n",
    "        data=speed_data,\n",
    "        rate=1.,\n",
    "        description=\"The speed of the subject measured over time.\",\n",
    "        unit=\"m/s\",\n",
    "    )\n",
    "    behavioral_time_series = pynwb.behavior.BehavioralTimeSeries(\n",
    "        time_series=speed_time_series,\n",
    "        name=\"BehavioralTimeSeries\",\n",
    "    )\n",
    "    \n",
    "    behavior_module.add(behavioral_time_series)\n",
    "\n",
    "    # Use the export method to write the modified NWBFile object to a new file path. \n",
    "    # The original file is not modified\n",
    "    # file_path_modified = file_path.split(\".nwb\")[0] + \"_modified.nwb\"\n",
    "    file_path_modified = \"modified_file.nwb\"\n",
    "    with pynwb.NWBHDF5IO(file_path_modified, mode=\"w\") as export_io:\n",
    "        export_io.export(src_io=read_io, nwbfile=nwbfile)\n",
    "\n",
    "    print(f\"Original file size: {get_file_size_in_mb(file_path)} MB\")\n",
    "    print(f\"Modified file size: {get_file_size_in_mb(file_path_modified)} MB\")"
   ]
  },
  {
   "cell_type": "code",
   "execution_count": null,
   "id": "0356d6a0-6a27-4ba6-b4d1-5624e554a211",
   "metadata": {},
   "outputs": [],
   "source": [
    "# Read the modified NWB file and confirm the modifications\n",
    "read_io = pynwb.NWBHDF5IO(file_path_modified, mode=\"r\")\n",
    "nwbfile = read_io.read()\n",
    "nwbfile"
   ]
  },
  {
   "cell_type": "code",
   "execution_count": null,
   "id": "d6310d77-2091-4e4b-85b1-fd222b5769a6",
   "metadata": {},
   "outputs": [],
   "source": [
    "# Remember to close the file if you are exploring it outside of the context manager mode\n",
    "read_io.close()"
   ]
  },
  {
   "cell_type": "markdown",
   "id": "f2031645-cd7a-4290-8703-598ba1661209",
   "metadata": {},
   "source": [
    "# Upload the modified NWB files to DANDI archive (staging)\n",
    "\n",
    "Now we can upload the modified NWB files to DANDI archive. Let's upload them to the same dandiset you've been using, for simplicity.\n",
    "\n",
    "In this session, you will use the [dandi cli](https://www.dandiarchive.org/handbook/12_download/#using-the-python-cli-client) to:\n",
    "- Organize the files within the dandiset, which will automatically name the files copies using the DANDI convention.\n",
    "- Validate the files\n",
    "- Upload the files to DANDI archive. Don't forget to **set the right value for your DANDI_API_KEY** in the code below."
   ]
  },
  {
   "cell_type": "code",
   "execution_count": null,
   "id": "65ff4f7f-5cc6-49df-92e1-8a40c47bd2b5",
   "metadata": {},
   "outputs": [],
   "source": [
    "bash_command = f'dandi organize -d {dandiset_id} -f move --required-field session_id .'\n",
    "\n",
    "!{bash_command}"
   ]
  },
  {
   "cell_type": "code",
   "execution_count": null,
   "id": "c49ec2dd-6da4-497d-a204-6ddf6dc251d0",
   "metadata": {},
   "outputs": [],
   "source": [
    "bash_command = f'dandi validate {dandiset_id}'\n",
    "\n",
    "!{bash_command}"
   ]
  },
  {
   "cell_type": "code",
   "execution_count": null,
   "id": "035b2ad9-0bef-4603-9e8d-33f850455fb4",
   "metadata": {},
   "outputs": [],
   "source": [
    "import os\n",
    "\n",
    "\n",
    "# Save your API key for Dandi staging as an environment variable\n",
    "os.environ[\"DANDI_API_KEY\"] = \"5e79c2cba4fd7ded10c1e6e3c577130669b98ee0\"\n",
    "\n",
    "# Run the bash command\n",
    "bash_command = f'dandi upload -i dandi-staging {dandiset_id}'\n",
    "\n",
    "!{bash_command}"
   ]
  },
  {
   "cell_type": "markdown",
   "id": "ca894e6a-42cb-4f3e-a00a-138a266c2054",
   "metadata": {},
   "source": [
    "# Explore the modified data files in DANDI archive and Neurosift\n",
    "\n",
    "Once the modified data has been uploaded to DANDI archive, it becomes immediately available to be read and visualized online!\n",
    "\n",
    "For that we will use [Neurosift](https://neurosift.app), a web app that allows you to explore and visualize all the data stored in the DANDI archive. Follow these steps:\n",
    "- Run the cell below to get the url for your dandiset.\n",
    "- Navigate to `Files` under `Dandiset Actions`\n",
    "- Over the modified file, click on `Open with` then `Neurosift`\n",
    "\n",
    "Alternatively, you can open [Neurosift](https://neurosift.app) and navigate through all available dandisets directly from there!"
   ]
  },
  {
   "cell_type": "code",
   "execution_count": null,
   "id": "fa1a9803-504f-46de-a29c-b966e5029fe3",
   "metadata": {},
   "outputs": [],
   "source": [
    "import yaml\n",
    "\n",
    "# Get the dandiset url from the YAML file\n",
    "yaml_file_path = f\"{dandiset_id}/dandiset.yaml\"\n",
    "with open(yaml_file_path, 'r') as file:\n",
    "    yaml_dict = yaml.safe_load(file)\n",
    "    print(yaml_dict[\"url\"])"
   ]
  },
  {
   "cell_type": "code",
   "execution_count": null,
   "id": "6a8ea1b5-5ec6-49d1-b07d-12e3b860aec4",
   "metadata": {},
   "outputs": [],
   "source": []
  }
 ],
 "metadata": {
  "kernelspec": {
   "display_name": "env_dendro",
   "language": "python",
   "name": "env_dendro"
  },
  "language_info": {
   "codemirror_mode": {
    "name": "ipython",
    "version": 3
   },
   "file_extension": ".py",
   "mimetype": "text/x-python",
   "name": "python",
   "nbconvert_exporter": "python",
   "pygments_lexer": "ipython3",
   "version": "3.10.4"
  }
 },
 "nbformat": 4,
 "nbformat_minor": 5
}
